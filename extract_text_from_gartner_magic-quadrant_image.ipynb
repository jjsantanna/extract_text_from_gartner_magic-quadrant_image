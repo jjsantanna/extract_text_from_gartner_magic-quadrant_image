{
 "cells": [
  {
   "cell_type": "markdown",
   "metadata": {},
   "source": [
    "# Extracting text from images of \"Gartner Magic Quadrant\"\n",
    "Ordered by \"ability to execute\""
   ]
  },
  {
   "cell_type": "code",
   "execution_count": 59,
   "metadata": {},
   "outputs": [],
   "source": [
    "year=2018"
   ]
  },
  {
   "cell_type": "code",
   "execution_count": 60,
   "metadata": {},
   "outputs": [],
   "source": [
    "import cv2\n",
    "import pytesseract\n",
    "import pandas as pd\n",
    "import numpy as np\n",
    "import glob"
   ]
  },
  {
   "cell_type": "code",
   "execution_count": 61,
   "metadata": {},
   "outputs": [],
   "source": [
    "file = glob.glob(\"siem_historic_gartner/\"+str(year)+\"*\")[0]\n",
    "\n",
    "img = cv2.imread(file)\n",
    "\n",
    "text = pytesseract.image_to_string(img)"
   ]
  },
  {
   "cell_type": "code",
   "execution_count": 62,
   "metadata": {},
   "outputs": [],
   "source": [
    "text = text.replace(\"@\",\"\\n\").replace(\"5\",\"\\n\").replace(\"OC\",\"\\n\").split(\"\\n\")\n",
    "            \n",
    "lst = list(filter(None, text))\n",
    "\n",
    "df = pd.DataFrame(lst) "
   ]
  },
  {
   "cell_type": "code",
   "execution_count": 63,
   "metadata": {},
   "outputs": [
    {
     "data": {
      "text/html": [
       "<div>\n",
       "<style scoped>\n",
       "    .dataframe tbody tr th:only-of-type {\n",
       "        vertical-align: middle;\n",
       "    }\n",
       "\n",
       "    .dataframe tbody tr th {\n",
       "        vertical-align: top;\n",
       "    }\n",
       "\n",
       "    .dataframe thead th {\n",
       "        text-align: right;\n",
       "    }\n",
       "</style>\n",
       "<table border=\"1\" class=\"dataframe\">\n",
       "  <thead>\n",
       "    <tr style=\"text-align: right;\">\n",
       "      <th></th>\n",
       "      <th>2018</th>\n",
       "    </tr>\n",
       "  </thead>\n",
       "  <tbody>\n",
       "    <tr>\n",
       "      <th>1</th>\n",
       "      <td>Splunk</td>\n",
       "    </tr>\n",
       "    <tr>\n",
       "      <th>2</th>\n",
       "      <td>IBM</td>\n",
       "    </tr>\n",
       "    <tr>\n",
       "      <th>3</th>\n",
       "      <td>LogRhythm</td>\n",
       "    </tr>\n",
       "    <tr>\n",
       "      <th>4</th>\n",
       "      <td>Dell Technologies (RSA)</td>\n",
       "    </tr>\n",
       "    <tr>\n",
       "      <th>5</th>\n",
       "      <td>Exabeam</td>\n",
       "    </tr>\n",
       "    <tr>\n",
       "      <th>6</th>\n",
       "      <td>McAfee</td>\n",
       "    </tr>\n",
       "    <tr>\n",
       "      <th>7</th>\n",
       "      <td>Securonix</td>\n",
       "    </tr>\n",
       "    <tr>\n",
       "      <th>8</th>\n",
       "      <td>Micro Focus</td>\n",
       "    </tr>\n",
       "    <tr>\n",
       "      <th>9</th>\n",
       "      <td>AlienVaut</td>\n",
       "    </tr>\n",
       "    <tr>\n",
       "      <th>10</th>\n",
       "      <td>Rapid7</td>\n",
       "    </tr>\n",
       "    <tr>\n",
       "      <th>11</th>\n",
       "      <td>Fortinet</td>\n",
       "    </tr>\n",
       "    <tr>\n",
       "      <th>12</th>\n",
       "      <td>Netsurion-EventTrackr</td>\n",
       "    </tr>\n",
       "    <tr>\n",
       "      <th>13</th>\n",
       "      <td>LogPoint</td>\n",
       "    </tr>\n",
       "    <tr>\n",
       "      <th>14</th>\n",
       "      <td>Venustech</td>\n",
       "    </tr>\n",
       "    <tr>\n",
       "      <th>15</th>\n",
       "      <td>BlackStratus ManageEngine</td>\n",
       "    </tr>\n",
       "  </tbody>\n",
       "</table>\n",
       "</div>"
      ],
      "text/plain": [
       "                         2018\n",
       "1                      Splunk\n",
       "2                         IBM\n",
       "3                   LogRhythm\n",
       "4     Dell Technologies (RSA)\n",
       "5                     Exabeam\n",
       "6                      McAfee\n",
       "7                   Securonix\n",
       "8                 Micro Focus\n",
       "9                   AlienVaut\n",
       "10                     Rapid7\n",
       "11                   Fortinet\n",
       "12      Netsurion-EventTrackr\n",
       "13                   LogPoint\n",
       "14                  Venustech\n",
       "15  BlackStratus ManageEngine"
      ]
     },
     "execution_count": 63,
     "metadata": {},
     "output_type": "execute_result"
    }
   ],
   "source": [
    "entries2remove= ['Figure', 'CHALLENGERS', 'LEADERS','ABILITY TO EXECUTE','NICHE PLAYERS','VISIONARIES','COMPLETENESS', 'Gartner',\n",
    "                'January','February','March','April','May','June','July','August','September','October','November','December']\n",
    "pattern = '|'.join(entries2remove)\n",
    "df_filtered = df[~df[0].str.contains(pattern,case=False)]\n",
    "\n",
    "df_filtered = pd.DataFrame(df_filtered[0].str.replace(\" O\",\"\")\n",
    "                                        .str.replace(\"O \",\"\")\n",
    "                                        .str.replace(\"®\",\"\")\n",
    "                                        .str.replace(\"&\",\"\")\n",
    "                                        .str.replace(\"—_»>\",\"\")\n",
    "                                        .str.replace(\" e\",\"\")\n",
    "                                        .str.replace(\"©\",\"\")   \n",
    "                                        .str.replace(\" beam\",\"Exabeam\")\n",
    "                                        .str.replace(\"Rapid\\?\",\"Rapid7\")\n",
    "                                        .str.replace(\"FventTrack\",\"EventTracker\")\n",
    "                                        .str.replace(\"Oo <n \",\"\")\n",
    "                                        .str.strip()\n",
    "                                        .replace('', np.nan).dropna())\n",
    "\n",
    "df_filtered.drop(df_filtered[(df_filtered[0]=='e') | \n",
    "                             (df_filtered[0]=='.') |\n",
    "                             (df_filtered[0]=='rae')| \n",
    "                             (df_filtered[0]==')')|\n",
    "                             (df_filtered[0]=='—-')|\n",
    "                             (df_filtered[0]=='ly')|\n",
    "                             (df_filtered[0]=='O')|\n",
    "                             (df_filtered[0]==',')|\n",
    "                             (df_filtered[0]=='usin')\n",
    "                            ].index,inplace = True)\n",
    "\n",
    "df_filtered.columns=[str(year)]\n",
    "\n",
    "df_filtered.reset_index(drop=True, inplace=True)\n",
    "df_filtered.index += 1\n",
    "df_filtered"
   ]
  },
  {
   "cell_type": "markdown",
   "metadata": {},
   "source": [
    "### To add a line in an arbritrary position"
   ]
  },
  {
   "cell_type": "code",
   "execution_count": 4,
   "metadata": {},
   "outputs": [],
   "source": [
    "# line = DataFrame({\"<column_name>\": \"<value>\"}, index=[<new_manual_position-0,5>])\n",
    "# df = df.append(line, ignore_index=False)\n",
    "# df = df.sort_index().reset_index(drop=True)"
   ]
  },
  {
   "cell_type": "markdown",
   "metadata": {},
   "source": [
    "# Outcome!!"
   ]
  },
  {
   "cell_type": "markdown",
   "metadata": {},
   "source": [
    "- 2007: (0/20)\n",
    "- 2008: we don't have the figure\n",
    "- 2009: (0/21)\n",
    "- 2010: (9*/20)\n",
    "- 2011: (19/25)\n",
    "- 2012: (8/20)\n",
    "- 2013: (13*/16)\n",
    "- 2014: (0/15)\n",
    "- 2015: (13*/13) *HP\n",
    "- 2016: (14/14)\n",
    "- 2017: (17/19)\n",
    "- 2018: (15/17) *no SolarWinds"
   ]
  },
  {
   "cell_type": "code",
   "execution_count": null,
   "metadata": {},
   "outputs": [],
   "source": []
  }
 ],
 "metadata": {
  "kernelspec": {
   "display_name": "Python 3",
   "language": "python",
   "name": "python3"
  },
  "language_info": {
   "codemirror_mode": {
    "name": "ipython",
    "version": 3
   },
   "file_extension": ".py",
   "mimetype": "text/x-python",
   "name": "python",
   "nbconvert_exporter": "python",
   "pygments_lexer": "ipython3",
   "version": "3.8.0"
  }
 },
 "nbformat": 4,
 "nbformat_minor": 2
}
